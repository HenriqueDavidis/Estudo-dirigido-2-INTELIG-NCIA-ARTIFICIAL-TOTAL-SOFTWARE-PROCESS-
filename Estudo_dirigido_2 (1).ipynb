{
  "nbformat": 4,
  "nbformat_minor": 0,
  "metadata": {
    "colab": {
      "provenance": []
    },
    "kernelspec": {
      "name": "python3",
      "display_name": "Python 3"
    },
    "language_info": {
      "name": "python"
    }
  },
  "cells": [
    {
      "cell_type": "code",
      "source": [
        "#Estudo dirigido 2:\n",
        "#\n",
        "#Tendo como base o modelo de Machine Learning (ML) proposto para prever preços de pizzas, faça um novo modelo de ML com dados reais (pesquisa),\n",
        "#podendo ser preços de alguns produtos como o caso das pizzas ou qualquer relação que desejar, por exemplo: altura dos pais x altura dos filhos,\n",
        "#renda x consumo, m2 x aluguel ou preço do imóvel, número de clientes x vendas mensais, dentre outras relações que queria fazer.\n",
        "#Descreva no próprio código uma breve introdução do tema escolhido para analisar.\n",
        "#Obs: Enviar o arquivo .ipynb.\n",
        "\n",
        "# Importando as bibliotecas necessárias\n",
        "import pandas as pd\n",
        "import numpy as np\n",
        "from sklearn.linear_model import LinearRegression\n",
        "\n",
        "#Conjunto de dados:\n",
        "data = {\n",
        "    'num_quartos': [2, 3, 2, 4, 3, 4, 1, 2, 3, 4],\n",
        "    'metros_quadrados': [100, 150, 120, 180, 130, 160, 70, 90, 120, 200],\n",
        "    'idade_imovel': [5, 10, 8, 2, 3, 1, 15, 7, 6, 1],\n",
        "    'preco': [200000, 300000, 250000, 400000, 280000, 350000, 150000, 180000, 270000, 420000]\n",
        "}\n",
        "\n",
        "# Criando um DataFrame com os dados:\n",
        "df = pd.DataFrame(data)\n",
        "\n",
        "# Dividindo os dados em recursos (X) e variável de destino (y):\n",
        "X = df[['num_quartos', 'metros_quadrados', 'idade_imovel']]\n",
        "y = df['preco']\n",
        "\n",
        "# Criando um modelo de regressão linear:\n",
        "model = LinearRegression()\n",
        "\n",
        "# Treinando o modelo com os dados:\n",
        "model.fit(X, y)\n",
        "\n",
        "# Função para obter previsão com base em entradas do usuário:\n",
        "def obter_previsao():\n",
        "    num_quartos = float(input(\"Digite o número de quartos: \"))\n",
        "    metros_quadrados = float(input(\"Digite a metragem quadrada: \"))\n",
        "    idade_imovel = float(input(\"Digite a idade do imóvel: \"))\n",
        "\n",
        "    entrada = np.array([[num_quartos, metros_quadrados, idade_imovel]])\n",
        "    preco_previsto = model.predict(entrada)\n",
        "\n",
        "    print(f\"Com base nas informações fornecidas, o preço previsto do imóvel é: R${preco_previsto[0]:.2f}\")\n",
        "\n",
        "# Exemplo de uso:\n",
        "obter_previsao()\n"
      ],
      "metadata": {
        "id": "_EjozXKlpzI2"
      },
      "execution_count": null,
      "outputs": []
    }
  ]
}